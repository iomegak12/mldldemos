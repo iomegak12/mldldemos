{
  "cells": [
    {
      "cell_type": "code",
      "execution_count": null,
      "metadata": {
        "id": "kIO1LXdEeAAK"
      },
      "outputs": [],
      "source": [
        "%pip install -q mlflow torchmetrics torchinfo"
      ]
    },
    {
      "cell_type": "code",
      "execution_count": null,
      "metadata": {
        "id": "--Od_1uNeOGZ"
      },
      "outputs": [],
      "source": [
        "import torch\n",
        "from torch import nn\n",
        "from torch.utils.data import DataLoader\n",
        "from torchinfo import summary\n",
        "from torchmetrics import Accuracy\n",
        "from torchvision import datasets\n",
        "from torchvision.transforms import ToTensor\n",
        "\n",
        "import mlflow"
      ]
    },
    {
      "cell_type": "code",
      "execution_count": null,
      "metadata": {
        "id": "Da5BaRqzeWst"
      },
      "outputs": [],
      "source": [
        "training_data = datasets.FashionMNIST(\n",
        "    root=\"data\",\n",
        "    train=True,\n",
        "    download=True,\n",
        "    transform=ToTensor(),\n",
        ")\n",
        "\n",
        "test_data = datasets.FashionMNIST(\n",
        "    root=\"data\",\n",
        "    train=False,\n",
        "    download=True,\n",
        "    transform=ToTensor(),\n",
        ")"
      ]
    },
    {
      "cell_type": "code",
      "execution_count": null,
      "metadata": {
        "id": "i5tNGWUzearn"
      },
      "outputs": [],
      "source": [
        "print(f\"Image size: {training_data[0][0].shape}\")\n",
        "print(f\"Size of training dataset: {len(training_data)}\")\n",
        "print(f\"Size of test dataset: {len(test_data)}\")"
      ]
    },
    {
      "cell_type": "code",
      "execution_count": null,
      "metadata": {
        "id": "TBcoTaQKee0O"
      },
      "outputs": [],
      "source": [
        "train_dataloader = DataLoader(training_data, batch_size=64)\n",
        "test_dataloader = DataLoader(test_data, batch_size=64)"
      ]
    },
    {
      "cell_type": "code",
      "execution_count": null,
      "metadata": {
        "id": "H8tecmUyehFA"
      },
      "outputs": [],
      "source": [
        "class ImageClassifier(nn.Module):\n",
        "    def __init__(self):\n",
        "        super().__init__()\n",
        "        self.model = nn.Sequential(\n",
        "            nn.Conv2d(1, 8, kernel_size=3),\n",
        "            nn.ReLU(),\n",
        "            nn.Conv2d(8, 16, kernel_size=3),\n",
        "            nn.ReLU(),\n",
        "            nn.Flatten(),\n",
        "            nn.LazyLinear(10),  # 10 classes in total.\n",
        "        )\n",
        "\n",
        "    def forward(self, x):\n",
        "        return self.model(x)"
      ]
    },
    {
      "cell_type": "code",
      "execution_count": null,
      "metadata": {
        "id": "OlPXX3daeiEM"
      },
      "outputs": [],
      "source": [
        "mlflow.set_tracking_uri(\"http://localhost:5000\")\n",
        "mlflow.set_experiment(\"/mlflow-pytorch-quickstart\")"
      ]
    },
    {
      "cell_type": "code",
      "execution_count": null,
      "metadata": {
        "id": "A8YWfj_Wen0-"
      },
      "outputs": [],
      "source": [
        "# Get cpu or gpu for training.\n",
        "device = \"cuda\" if torch.cuda.is_available() else \"cpu\""
      ]
    },
    {
      "cell_type": "code",
      "execution_count": null,
      "metadata": {
        "id": "wOSAaE9weqXs"
      },
      "outputs": [],
      "source": [
        "def train(dataloader, model, loss_fn, metrics_fn, optimizer, epoch):\n",
        "    \"\"\"Train the model on a single pass of the dataloader.\n",
        "\n",
        "    Args:\n",
        "        dataloader: an instance of `torch.utils.data.DataLoader`, containing the training data.\n",
        "        model: an instance of `torch.nn.Module`, the model to be trained.\n",
        "        loss_fn: a callable, the loss function.\n",
        "        metrics_fn: a callable, the metrics function.\n",
        "        optimizer: an instance of `torch.optim.Optimizer`, the optimizer used for training.\n",
        "        epoch: an integer, the current epoch number.\n",
        "    \"\"\"\n",
        "    model.train()\n",
        "    for batch, (X, y) in enumerate(dataloader):\n",
        "        X, y = X.to(device), y.to(device)\n",
        "\n",
        "        pred = model(X)\n",
        "        loss = loss_fn(pred, y)\n",
        "        accuracy = metrics_fn(pred, y)\n",
        "\n",
        "        # Backpropagation.\n",
        "        loss.backward()\n",
        "        optimizer.step()\n",
        "        optimizer.zero_grad()\n",
        "\n",
        "        if batch % 100 == 0:\n",
        "            loss, current = loss.item(), batch\n",
        "            step = batch // 100 * (epoch + 1)\n",
        "            mlflow.log_metric(\"loss\", f\"{loss:2f}\", step=step)\n",
        "            mlflow.log_metric(\"accuracy\", f\"{accuracy:2f}\", step=step)\n",
        "            print(f\"loss: {loss:2f} accuracy: {accuracy:2f} [{current} / {len(dataloader)}]\")"
      ]
    },
    {
      "cell_type": "code",
      "execution_count": null,
      "metadata": {
        "id": "T0BqfXJqerjQ"
      },
      "outputs": [],
      "source": [
        "def evaluate(dataloader, model, loss_fn, metrics_fn, epoch):\n",
        "    \"\"\"Evaluate the model on a single pass of the dataloader.\n",
        "\n",
        "    Args:\n",
        "        dataloader: an instance of `torch.utils.data.DataLoader`, containing the eval data.\n",
        "        model: an instance of `torch.nn.Module`, the model to be trained.\n",
        "        loss_fn: a callable, the loss function.\n",
        "        metrics_fn: a callable, the metrics function.\n",
        "        epoch: an integer, the current epoch number.\n",
        "    \"\"\"\n",
        "    num_batches = len(dataloader)\n",
        "    model.eval()\n",
        "    eval_loss, eval_accuracy = 0, 0\n",
        "    with torch.no_grad():\n",
        "        for X, y in dataloader:\n",
        "            X, y = X.to(device), y.to(device)\n",
        "            pred = model(X)\n",
        "            eval_loss += loss_fn(pred, y).item()\n",
        "            eval_accuracy += metrics_fn(pred, y)\n",
        "\n",
        "    eval_loss /= num_batches\n",
        "    eval_accuracy /= num_batches\n",
        "    mlflow.log_metric(\"eval_loss\", f\"{eval_loss:2f}\", step=epoch)\n",
        "    mlflow.log_metric(\"eval_accuracy\", f\"{eval_accuracy:2f}\", step=epoch)\n",
        "\n",
        "    print(f\"Eval metrics: \\nAccuracy: {eval_accuracy:.2f}, Avg loss: {eval_loss:2f} \\n\")"
      ]
    },
    {
      "cell_type": "code",
      "execution_count": null,
      "metadata": {
        "id": "KUu9gmX4evo8"
      },
      "outputs": [],
      "source": [
        "epochs = 3\n",
        "loss_fn = nn.CrossEntropyLoss()\n",
        "metric_fn = Accuracy(task=\"multiclass\", num_classes=10).to(device)\n",
        "model = ImageClassifier().to(device)\n",
        "optimizer = torch.optim.SGD(model.parameters(), lr=1e-3)"
      ]
    },
    {
      "cell_type": "code",
      "execution_count": null,
      "metadata": {
        "id": "xiBYXwEFexo4"
      },
      "outputs": [],
      "source": [
        "with mlflow.start_run() as run:\n",
        "    params = {\n",
        "        \"epochs\": epochs,\n",
        "        \"learning_rate\": 1e-3,\n",
        "        \"batch_size\": 64,\n",
        "        \"loss_function\": loss_fn.__class__.__name__,\n",
        "        \"metric_function\": metric_fn.__class__.__name__,\n",
        "        \"optimizer\": \"SGD\",\n",
        "    }\n",
        "    # Log training parameters.\n",
        "    mlflow.log_params(params)\n",
        "\n",
        "    # Log model summary.\n",
        "    with open(\"model_summary.txt\", \"w\") as f:\n",
        "        f.write(str(summary(model)))\n",
        "    mlflow.log_artifact(\"model_summary.txt\")\n",
        "\n",
        "    for t in range(epochs):\n",
        "        print(f\"Epoch {t+1}\\n-------------------------------\")\n",
        "        train(train_dataloader, model, loss_fn, metric_fn, optimizer, epoch=t)\n",
        "        evaluate(test_dataloader, model, loss_fn, metric_fn, epoch=0)\n",
        "\n",
        "    # Save the trained model to MLflow.\n",
        "    mlflow.pytorch.log_model(model, \"model\")\n"
      ]
    },
    {
      "cell_type": "code",
      "execution_count": null,
      "metadata": {
        "id": "pd2BfWcNe2MM"
      },
      "outputs": [],
      "source": [
        "logged_model = f\"runs:/{run.info.run_id}/model\"\n",
        "loaded_model = mlflow.pyfunc.load_model(logged_model)"
      ]
    },
    {
      "cell_type": "code",
      "execution_count": null,
      "metadata": {
        "id": "I8Q4cxdEe3jJ"
      },
      "outputs": [],
      "source": [
        "outputs = loaded_model.predict(training_data[0][0][None, :].numpy())"
      ]
    },
    {
      "cell_type": "code",
      "execution_count": null,
      "metadata": {
        "id": "NvOMKLlle9O_"
      },
      "outputs": [],
      "source": [
        "outputs"
      ]
    },
    {
      "cell_type": "code",
      "execution_count": null,
      "metadata": {},
      "outputs": [],
      "source": [
        "!npm install -g localtunnel"
      ]
    },
    {
      "cell_type": "code",
      "execution_count": null,
      "metadata": {
        "id": "mgZYUEz-fOwa"
      },
      "outputs": [],
      "source": [
        "!wget -q -O - ipv4.icanhazip.com"
      ]
    },
    {
      "cell_type": "code",
      "execution_count": null,
      "metadata": {
        "id": "nSlLwIjMfTKL"
      },
      "outputs": [],
      "source": [
        "!npx localtunnel --port 8501"
      ]
    }
  ],
  "metadata": {
    "accelerator": "GPU",
    "colab": {
      "gpuType": "L4",
      "machine_shape": "hm",
      "provenance": []
    },
    "kernelspec": {
      "display_name": "Python 3",
      "name": "python3"
    },
    "language_info": {
      "name": "python"
    }
  },
  "nbformat": 4,
  "nbformat_minor": 0
}
